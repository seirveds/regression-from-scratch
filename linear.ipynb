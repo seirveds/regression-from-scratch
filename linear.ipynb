{
 "cells": [
  {
   "cell_type": "code",
   "execution_count": 1,
   "metadata": {},
   "outputs": [],
   "source": [
    "import numpy as np\n",
    "import matplotlib.pyplot as plt"
   ]
  },
  {
   "cell_type": "code",
   "execution_count": 2,
   "metadata": {},
   "outputs": [],
   "source": [
    "# Generate random linear data\n",
    "x = np.linspace(0.,1.,100)\n",
    "\n",
    "#   a   * x + b   + random noise\n",
    "y = 0.1 * x + 0.5 + np.random.uniform(-.05,.05,100)"
   ]
  },
  {
   "cell_type": "code",
   "execution_count": 3,
   "metadata": {},
   "outputs": [
    {
     "data": {
      "image/png": "[encoded data removed]",
      "text/plain": [
       "<Figure size 432x288 with 1 Axes>"
      ]
     },
     "metadata": {},
     "output_type": "display_data"
    }
   ],
   "source": [
    "# Plot the random sample\n",
    "plt.scatter(x,y)\n",
    "plt.show()"
   ]
  },
  {
   "cell_type": "markdown",
   "metadata": {},
   "source": [
    "# Closed form formula"
   ]
  },
  {
   "cell_type": "markdown",
   "metadata": {},
   "source": [
    "$\\hat{\\alpha} = \\bar{y} - \\hat{\\beta}\\bar{x}$\n",
    "\n",
    "$\\hat{\\beta} = \\frac{\\sum_{i=1}^{n} (x_{i} - \\bar{x})(y_{i} - \\bar{y})}{\\sum_{i=1}^{n} (x_{i} - \\bar{x})^{2}}$\n",
    "\n",
    "$y = \\alpha + \\beta x$"
   ]
  },
  {
   "cell_type": "code",
   "execution_count": 4,
   "metadata": {},
   "outputs": [
    {
     "name": "stdout",
     "output_type": "stream",
     "text": [
      "y = 0.5080651069914707 + 0.08703406007318465x\n"
     ]
    }
   ],
   "source": [
    "x_mean = x.mean()\n",
    "y_mean = y.mean()\n",
    "\n",
    "beta_hat = sum((x - x_mean) * (y - y_mean)) / sum((x - x_mean) ** 2)\n",
    "alpha_hat = y_mean - beta_hat*x_mean\n",
    "\n",
    "print('y = {} + {}x'.format(alpha_hat, beta_hat))"
   ]
  },
  {
   "cell_type": "code",
   "execution_count": 5,
   "metadata": {},
   "outputs": [],
   "source": [
    "def f(x, a, b):\n",
    "    return a + x * b\n",
    "\n",
    "true_y = f(x, alpha_hat, beta_hat)"
   ]
  },
  {
   "cell_type": "code",
   "execution_count": 6,
   "metadata": {},
   "outputs": [
    {
     "data": {
      "image/png": "[encoded data removed]",
      "text/plain": [
       "<Figure size 432x288 with 1 Axes>"
      ]
     },
     "metadata": {},
     "output_type": "display_data"
    }
   ],
   "source": [
    "plt.plot(x, true_y)\n",
    "plt.scatter(x,y)\n",
    "plt.show()"
   ]
  },
  {
   "cell_type": "markdown",
   "metadata": {},
   "source": [
    "# Machine learning method"
   ]
  },
  {
   "cell_type": "markdown",
   "metadata": {},
   "source": [
    "Basic loss formula:\n",
    "\n",
    "$\\mathcal{L} = \\frac{1}{n} \\sum_{n}^{i=1}(y_{i} - \\hat{y_{i}})^{2}$"
   ]
  },
  {
   "cell_type": "markdown",
   "metadata": {},
   "source": [
    "Implementing predictive calculation in loss formula:\n",
    "\n",
    "$w = \\beta$\n",
    "\n",
    "$b = \\alpha$\n",
    "\n",
    "$\\mathcal{L} = \\frac{1}{n} \\sum_{n}^{i=1}(y_{i} - (w^{T}x_{i} + b))^{2}$"
   ]
  },
  {
   "cell_type": "markdown",
   "metadata": {},
   "source": [
    "Derivative w.r.t. $w$\n",
    "\n",
    "$\\frac{\\partial \\mathcal{L}}{\\partial w} = -\\frac{1}{n} \\sum_{n}^{i=1}2x_{i}(y_{i} - (w^{T}x_{i} + b))$"
   ]
  },
  {
   "cell_type": "markdown",
   "metadata": {},
   "source": [
    "Derivative w.r.t. $b$\n",
    "\n",
    "$\\frac{\\partial \\mathcal{L}}{\\partial b} = -\\frac{1}{n} \\sum_{n}^{i=1}2(y_{i} - (w^{T}x_{i} + b))$"
   ]
  },
  {
   "cell_type": "markdown",
   "metadata": {},
   "source": [
    "Gradient descent:\n",
    "\n",
    "$w_{i} = w_{i-1} - \\alpha \\frac{\\partial \\mathcal{L}}{\\partial w}$\n",
    "\n",
    "$b_{i} = b_{i-1} - \\alpha \\frac{\\partial \\mathcal{L}}{\\partial b}$"
   ]
  },
  {
   "cell_type": "markdown",
   "metadata": {},
   "source": [
    "Add another feature (the bias) to x, and remove the $b$ parameter. Removes need for $\\frac{\\partial \\mathcal{L}}{\\partial b}$ and simplifies $\\frac{\\partial \\mathcal{L}}{\\partial w}$ to:\n",
    "\n",
    "$\\frac{\\partial \\mathcal{L}}{\\partial w} = -\\frac{1}{n} \\sum_{n}^{i=1}2x_{i}(y_{i} - (w^{T}x_{i}))$\n",
    "\n",
    "We can also remove the multiplication by 2 as it is only a scalar for the output, and not a relevant variable. \n",
    "\n",
    "$\\frac{\\partial \\mathcal{L}}{\\partial w} = -\\frac{1}{n} \\sum_{n}^{i=1}x_{i}(y_{i} - (w^{T}x_{i}))$"
   ]
  },
  {
   "cell_type": "code",
   "execution_count": 7,
   "metadata": {},
   "outputs": [],
   "source": [
    "def calc_gradient(x,y,w):\n",
    "    y_hat = x.dot(w)\n",
    "    error = y - y_hat\n",
    "    \n",
    "    gradient = -(1/len(x)) * error.dot(x)\n",
    "    return gradient, np.sum(error)**2\n",
    "    "
   ]
  },
  {
   "cell_type": "code",
   "execution_count": 8,
   "metadata": {},
   "outputs": [],
   "source": [
    "# Add bias feature to x\n",
    "bias_feature = np.ones(x.shape)\n",
    "\n",
    "x_plus_bias = np.column_stack((bias_feature, x))"
   ]
  },
  {
   "cell_type": "code",
   "execution_count": 9,
   "metadata": {},
   "outputs": [
    {
     "name": "stdout",
     "output_type": "stream",
     "text": [
      "Now at iteration 100 with an error of 0.8669401372955907\n",
      "Now at iteration 200 with an error of 0.2258265231751113\n",
      "Now at iteration 300 with an error of 0.05880676684656184\n",
      "Now at iteration 400 with an error of 0.015313683156569408\n",
      "Now at iteration 500 with an error of 0.003987787535262208\n",
      "Now at iteration 600 with an error of 0.0010384470714070281\n",
      "Now at iteration 700 with an error of 0.00027041869973709604\n",
      "Finished SGD with parameter set w = [0.50635962 0.09021632]\n"
     ]
    }
   ],
   "source": [
    "# Gradient descent\n",
    "alpha = 0.1\n",
    "tolerance = 1e-5\n",
    "\n",
    "w = np.ones(2)\n",
    "\n",
    "# Plotting and debugging stacks/counters\n",
    "error_stack = []\n",
    "iters = 0\n",
    "\n",
    "while True:\n",
    "    gradient, error = calc_gradient(x_plus_bias,y,w)\n",
    "    \n",
    "    old_w = w\n",
    "    \n",
    "    w = w - alpha * gradient\n",
    "    \n",
    "    if abs(sum(old_w - w)) < tolerance:\n",
    "        print(\"Finished SGD with parameter set w = {}\".format(w))\n",
    "        break\n",
    "    else:\n",
    "        iters += 1\n",
    "        error_stack.append(error)\n",
    "        \n",
    "        if iters % 100 == 0:\n",
    "            print(\"Now at iteration {} with an error of {}\".format(iters, error))"
   ]
  },
  {
   "cell_type": "code",
   "execution_count": 18,
   "metadata": {},
   "outputs": [
    {
     "data": {
      "image/png": "[encoded data removed]",
      "text/plain": [
       "<Figure size 504x144 with 1 Axes>"
      ]
     },
     "metadata": {},
     "output_type": "display_data"
    }
   ],
   "source": [
    "errorplot_x = np.arange(1, len(error_stack)+1)\n",
    "plt.figure(figsize=(7,2))\n",
    "plt.plot(errorplot_x, error_stack)\n",
    "plt.title(\"Error per iteration\")\n",
    "plt.xlabel(\"Iteration\")\n",
    "plt.ylabel(\"Error\")\n",
    "plt.show()"
   ]
  },
  {
   "cell_type": "markdown",
   "metadata": {},
   "source": [
    "# Comparison of two methods"
   ]
  },
  {
   "cell_type": "code",
   "execution_count": 11,
   "metadata": {},
   "outputs": [
    {
     "name": "stdout",
     "output_type": "stream",
     "text": [
      "Parameters found by closed form method:\n",
      "alpha: 0.5080651069914707\tbeta: 0.08703406007318465\n",
      "Parameters found with the machine learning method:\n",
      "alpha: 0.5063596233652177\tbeta: 0.09021632294072308\n"
     ]
    }
   ],
   "source": [
    "print(\"Parameters found by closed form method:\\nalpha: {}\\tbeta: {}\".format(alpha_hat, beta_hat))\n",
    "print(\"Parameters found with the machine learning method:\\nalpha: {}\\tbeta: {}\".format(w[0], w[1]))"
   ]
  },
  {
   "cell_type": "code",
   "execution_count": 19,
   "metadata": {},
   "outputs": [
    {
     "data": {
      "image/png": "[encoded data removed]",
      "text/plain": [
       "<Figure size 432x288 with 1 Axes>"
      ]
     },
     "metadata": {},
     "output_type": "display_data"
    }
   ],
   "source": [
    "closed_form_predicted_line = f(x, alpha_hat, beta_hat)\n",
    "ml_predicted_line = f(x, w[0], w[1])\n",
    "\n",
    "plt.scatter(x,y)\n",
    "\n",
    "plt.plot(x, closed_form_predicted_line, label='Closed form')\n",
    "plt.plot(x, ml_predicted_line, label='Machine learning')\n",
    "\n",
    "plt.legend()\n",
    "plt.show()"
   ]
  },
  {
   "cell_type": "code",
   "execution_count": null,
   "metadata": {},
   "outputs": [],
   "source": []
  }
 ],
 "metadata": {
  "kernelspec": {
   "display_name": "Python 3",
   "language": "python",
   "name": "python3"
  },
  "language_info": {
   "codemirror_mode": {
    "name": "ipython",
    "version": 3
   },
   "file_extension": ".py",
   "mimetype": "text/x-python",
   "name": "python",
   "nbconvert_exporter": "python",
   "pygments_lexer": "ipython3",
   "version": "3.6.5"
  }
 },
 "nbformat": 4,
 "nbformat_minor": 2
}
